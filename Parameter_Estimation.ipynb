{
 "cells": [
  {
   "cell_type": "code",
   "execution_count": 101,
   "metadata": {},
   "outputs": [],
   "source": [
    "import pandas as pd\n",
    "import ipywidgets as widgets\n",
    "from IPython.display import display, clear_output\n",
    "from functools import partial\n",
    "import random\n",
    "import os\n",
    "from girth import twopl_mml,twopl_jml"
   ]
  },
  {
   "cell_type": "code",
   "execution_count": 102,
   "metadata": {},
   "outputs": [],
   "source": [
    "test_questions=pd.read_csv(\"General_Knowledge_Better_Prompt.csv\")\n",
    "test_questions['question_id']='Q'+test_questions['question_id'].astype(str)\n",
    "test_questions=test_questions.iloc[41:47]\n",
    "test_questions.reset_index(drop=True,inplace=True)"
   ]
  },
  {
   "cell_type": "code",
   "execution_count": 103,
   "metadata": {},
   "outputs": [],
   "source": [
    "column_names=list(test_questions['question_id'])\n",
    "responses=pd.DataFrame(columns=column_names)"
   ]
  },
  {
   "cell_type": "code",
   "execution_count": 104,
   "metadata": {},
   "outputs": [],
   "source": [
    "## User Testing Class\n",
    "class TestTaker:\n",
    "    def __init__(self, questions):\n",
    "        self.questions = questions\n",
    "        self.responses = {}\n",
    "        self.current_question = 0\n",
    "        self.name = \"\"\n",
    "        self.response_df=pd.DataFrame()\n",
    "    def ask_question(self):\n",
    "        if self.current_question < len(self.questions):\n",
    "            clear_output(wait=True)\n",
    "            question = self.questions.iloc[self.current_question]\n",
    "            print(f\"Question {self.current_question + 1}: {question['Question']}\")\n",
    "            options_buttons=[]\n",
    "            options=['Option A','Option B','Option C', 'Option D']\n",
    "            for idx, option in enumerate(options):\n",
    "                button = widgets.Button(description=f\"{chr(65+idx)}: {question[option]}\")\n",
    "                button.on_click(partial(self.record_response, question=question, option=option))\n",
    "                button.layout.width = 'auto'\n",
    "                options_buttons.append(button)\n",
    "\n",
    "            display(widgets.VBox(options_buttons))\n",
    "        else:\n",
    "            self.complete_test()\n",
    "\n",
    "    def record_response(self, button, question, option):\n",
    "        correct_option_letter = question['Correct Option'][-1]\n",
    "        self.responses[question['question_id']] = 1 if option == question['Correct Option'] else 0\n",
    "        self.current_question += 1\n",
    "        self.ask_question()\n",
    "\n",
    "    def start_test(self, name):\n",
    "        self.name = name\n",
    "        self.ask_question()\n",
    "\n",
    "    def complete_test(self):\n",
    "        global responses\n",
    "        clear_output(wait=True)\n",
    "        print(f\"Test completed for {self.name}!\")\n",
    "        self.name\n",
    "        row_index = [self.name]  \n",
    "        self.response_df = pd.DataFrame(self.responses,index=row_index)  \n",
    "        responses=pd.concat([responses,self.response_df],axis=0)\n",
    "        return self.response_df\n"
   ]
  },
  {
   "cell_type": "code",
   "execution_count": 107,
   "metadata": {},
   "outputs": [
    {
     "name": "stdout",
     "output_type": "stream",
     "text": [
      "Test completed for Amit!\n"
     ]
    }
   ],
   "source": [
    "test=TestTaker(test_questions)\n",
    "test.start_test(name='Amit')\n"
   ]
  },
  {
   "cell_type": "code",
   "execution_count": 108,
   "metadata": {},
   "outputs": [
    {
     "data": {
      "text/html": [
       "<div>\n",
       "<style scoped>\n",
       "    .dataframe tbody tr th:only-of-type {\n",
       "        vertical-align: middle;\n",
       "    }\n",
       "\n",
       "    .dataframe tbody tr th {\n",
       "        vertical-align: top;\n",
       "    }\n",
       "\n",
       "    .dataframe thead th {\n",
       "        text-align: right;\n",
       "    }\n",
       "</style>\n",
       "<table border=\"1\" class=\"dataframe\">\n",
       "  <thead>\n",
       "    <tr style=\"text-align: right;\">\n",
       "      <th></th>\n",
       "      <th>Q41</th>\n",
       "      <th>Q42</th>\n",
       "      <th>Q43</th>\n",
       "      <th>Q44</th>\n",
       "      <th>Q45</th>\n",
       "      <th>Q46</th>\n",
       "    </tr>\n",
       "  </thead>\n",
       "  <tbody>\n",
       "    <tr>\n",
       "      <th>Sarath</th>\n",
       "      <td>0</td>\n",
       "      <td>1</td>\n",
       "      <td>0</td>\n",
       "      <td>0</td>\n",
       "      <td>0</td>\n",
       "      <td>0</td>\n",
       "    </tr>\n",
       "    <tr>\n",
       "      <th>Amit</th>\n",
       "      <td>0</td>\n",
       "      <td>0</td>\n",
       "      <td>0</td>\n",
       "      <td>0</td>\n",
       "      <td>0</td>\n",
       "      <td>0</td>\n",
       "    </tr>\n",
       "  </tbody>\n",
       "</table>\n",
       "</div>"
      ],
      "text/plain": [
       "       Q41 Q42 Q43 Q44 Q45 Q46\n",
       "Sarath   0   1   0   0   0   0\n",
       "Amit     0   0   0   0   0   0"
      ]
     },
     "execution_count": 108,
     "metadata": {},
     "output_type": "execute_result"
    }
   ],
   "source": [
    "responses"
   ]
  },
  {
   "cell_type": "code",
   "execution_count": 88,
   "metadata": {},
   "outputs": [],
   "source": [
    "responses.to_csv('Responses.csv')"
   ]
  },
  {
   "cell_type": "code",
   "execution_count": 109,
   "metadata": {},
   "outputs": [],
   "source": [
    "import numpy as np\n",
    "from girth import twopl_mml,twopl_jml\n",
    "\n",
    "response_matrix=responses.to_numpy().transpose().astype(int)\n",
    "estimates = twopl_mml(response_matrix)\n",
    "\n",
    "discrimination_estimates = estimates['Discrimination']\n",
    "difficulty_estimates = estimates['Difficulty']"
   ]
  },
  {
   "cell_type": "code",
   "execution_count": null,
   "metadata": {},
   "outputs": [],
   "source": []
  }
 ],
 "metadata": {
  "kernelspec": {
   "display_name": "Python 3.11.4 ('NN')",
   "language": "python",
   "name": "python3"
  },
  "language_info": {
   "codemirror_mode": {
    "name": "ipython",
    "version": 3
   },
   "file_extension": ".py",
   "mimetype": "text/x-python",
   "name": "python",
   "nbconvert_exporter": "python",
   "pygments_lexer": "ipython3",
   "version": "3.11.4"
  },
  "orig_nbformat": 4,
  "vscode": {
   "interpreter": {
    "hash": "5704ccb4069b466c646da1f3ff11884348d327367396c1e7331f1adba0ad30b0"
   }
  }
 },
 "nbformat": 4,
 "nbformat_minor": 2
}
